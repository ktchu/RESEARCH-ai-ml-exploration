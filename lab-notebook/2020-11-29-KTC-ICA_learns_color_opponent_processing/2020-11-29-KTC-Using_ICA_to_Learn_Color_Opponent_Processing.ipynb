{
 "cells": [
  {
   "cell_type": "markdown",
   "metadata": {},
   "source": [
    "# 2015-06-19: Using ICA to Learn Color Opponent Processing\n",
    "\n",
    "*Last Updated*: 2020-11-29\n",
    "\n",
    "### Authors\n",
    "* Kevin Chu (kevin@velexi.com)\n",
    "\n",
    "### Overview\n",
    "In this Jupyter notebook, we demonstrate how color-opponent processing naturally arises as a way to decompose the RGB-based color space of natural scenes into statistically independent components. The Independent Component Analysis (ICA) algorithm is used to learn the statistically independent components.\n",
    "\n",
    "Independent Component Analysis (ICA) identifies a collection of components/signals that(1) are statistically independent and (2) can be mixed (i.e., linearly combined) to obtain the observed signals. Mathematically, ICA uses observations $\\{\\mathbf{x}_1, \\mathbf{x}_2, \\ldots\\}$ to estimate $m$ independent components $\\mathbf{A}_j$ (each an $n$ dimensional vector) that can be linearly combined to construct the observations:\n",
    "$$\n",
    "  \\mathbf{x}_i = \\sum_{j=1}^{m} \\mathbf{A}_j s_{ij}\n",
    "$$\n",
    "where $s_{ij}$ is the contribution of the $j$-th component to $\\mathbf{x}_i$. In matrix form, this relationship can be expressed as:\n",
    "$$\n",
    "    \\mathbf{x}_i = \\mathbf{A} \\mathbf{s}_i\n",
    "$$\n",
    "where $\\mathbf{A}$ is the $n \\times m$ _mixing matrix_ consisting of the $m$ independent components $\\mathbf{A}_j$ as columns and $\\mathbf{s}_i$ is the vector formed from $s_{ij}$.\n",
    "\n",
    "For a particular observation $\\mathbf{x}_i$, the contribution of each component can be computed by (1) inverting $\\mathbf{A}$ if $\\mathbf{A}$ is square or (2) solving the least squares problem if $\\mathbf{A}$ is rectangular (with $m > n$).\n",
    "\n",
    "### Color Processing\n",
    "In the context of color processing, the _unmixing matrix_ (inverse of the mixing matrix) converts RGB values to three statistically independent components. The rows of this matrix define the computational processing that should be aplied to the raw RGB data to extract \"color values\" that are statistically independent. This example demonstrates that when applied to images from natural scenes, ICA indicates that RGB color values should be processed into \"opponent colors\" which is precisely how the human vision system processes raw color data.\n",
    "\n",
    "### Sensitivity of Results to Dataset Choice\n",
    "The color processing that is learned by ICA is sensitive to the choice of dataset. In particular, if the dataset is not representative of the colors that would be observed in the natural world, we should not expect that ICA would learn color opponent processing. Instead, ICA will learn a color processing scheme that yields statistically independent color values for the dataset used as input to the ICA algorithm.\n",
    "\n",
    "### User parameters\n",
    "\n",
    "* `image_numbers`: image numbers to include in the analysis"
   ]
  },
  {
   "cell_type": "code",
   "execution_count": 1,
   "metadata": {},
   "outputs": [],
   "source": [
    "# --- Imports\n",
    "\n",
    "# Standard library\n",
    "import os\n",
    "import random\n",
    "\n",
    "# Third-party libraries\n",
    "import numpy\n",
    "from PIL import Image\n",
    "import matplotlib.pyplot as plt\n",
    "from sklearn.decomposition import FastICA"
   ]
  },
  {
   "cell_type": "code",
   "execution_count": 2,
   "metadata": {},
   "outputs": [],
   "source": [
    "# --- User parameters\n",
    "\n",
    "# list of image numbers to include in the analysis\n",
    "#\n",
    "# Valid image numbers: 1 - 20\n",
    "# Special values: \"all\"\n",
    "image_numbers = [1, 5, 7, 10, 11, 14, 15, 20]\n",
    "image_numbers = \"all\""
   ]
  },
  {
   "cell_type": "markdown",
   "metadata": {},
   "source": [
    "### Preparations"
   ]
  },
  {
   "cell_type": "code",
   "execution_count": 3,
   "metadata": {},
   "outputs": [],
   "source": [
    "# --- Verify user parameters\n",
    "\n",
    "if image_numbers == \"all\":\n",
    "    image_numbers = range(1, 21)\n",
    "else:\n",
    "    min_image_number = 1\n",
    "    max_image_number = 20\n",
    "    for item in image_numbers:\n",
    "        try:\n",
    "            item = int(item)\n",
    "        except:\n",
    "            message = \"Image number '{}' is not an integer\".format(item)\n",
    "            raise ValueError(message)\n",
    "\n",
    "        if item < min_image_number or item > max_image_number:\n",
    "            message = \"Image number '{}' is out of the range. Valid values: [{}, {}]\" \\\n",
    "                .format(item, min_image_number, max_image_number)\n",
    "            raise ValueError(message)"
   ]
  },
  {
   "cell_type": "code",
   "execution_count": 4,
   "metadata": {},
   "outputs": [],
   "source": [
    "# --- Load image data\n",
    "\n",
    "jupyter_notebook = \"2020-11-29-KTC-Using_ICA_to_Learn_Color_Opponent_Processing\"\n",
    "images = []\n",
    "data_dir = os.path.join(os.path.abspath(os.path.dirname(jupyter_notebook)), \"data\")\n",
    "for image_number in image_numbers:\n",
    "    image_file = \"natural_scene-{:02d}.jpg\".format(image_number)\n",
    "    image_path = os.path.join(data_dir, image_file)\n",
    "    img = Image.open(image_path)\n",
    "    images.append(numpy.array(img.getdata(), dtype='float'))"
   ]
  },
  {
   "cell_type": "code",
   "execution_count": 5,
   "metadata": {},
   "outputs": [],
   "source": [
    "# --- Construct data set\n",
    "\n",
    "data = images[0]\n",
    "for image in images[1:]:\n",
    "    data = numpy.vstack((data, image))\n",
    "\n",
    "# Scale color values to lie in the range [0, 1]\n",
    "data = data / 255\n",
    "\n",
    "# Apply gamma correction to get intensity\n",
    "gamma = 2.2  # Reciprocal of typical gamma value applied when storing image\n",
    "data = data ** gamma\n",
    "\n",
    "# Apply log tranformation to get eye processing\n",
    "data = numpy.log(data + 1)"
   ]
  },
  {
   "cell_type": "markdown",
   "metadata": {},
   "source": [
    "### Perform ICA"
   ]
  },
  {
   "cell_type": "code",
   "execution_count": 6,
   "metadata": {},
   "outputs": [
    {
     "name": "stdout",
     "output_type": "stream",
     "text": [
      "[[-0.00178808 -0.00541895  0.00625262]\n",
      " [ 0.00121645  0.00129207  0.00305595]\n",
      " [ 0.01058083 -0.01301842  0.00327543]]\n"
     ]
    }
   ],
   "source": [
    "# --- Perform ICA\n",
    "\n",
    "ica = FastICA(n_components=3)\n",
    "ica.fit(data)\n",
    "\n",
    "# --- Extract matrix that converts RGB to Color Opponent values\n",
    "\n",
    "component_matrix = ica.components_\n",
    "print(component_matrix)"
   ]
  },
  {
   "cell_type": "code",
   "execution_count": 7,
   "metadata": {},
   "outputs": [
    {
     "name": "stdout",
     "output_type": "stream",
     "text": [
      "ICA Components\n",
      "--------------\n",
      "Luminance Channel: [0.00121645 0.00129207 0.00305595]\n",
      "R-G Channel: [ 0.01058083 -0.01301842  0.00327543]\n",
      "B-Y Channel: [-0.00178808 -0.00541895  0.00625262]\n"
     ]
    }
   ],
   "source": [
    "# --- Display results\n",
    "\n",
    "# Extract color opponent processing coefficients\n",
    "channels = {}\n",
    "for i in range(3):\n",
    "    # Get i-th row\n",
    "    component = component_matrix[i, :]\n",
    "\n",
    "    # Process channel\n",
    "    if component[0]*component[1] < 0:\n",
    "        # --- R-G channel\n",
    "        \n",
    "        # Make sure that R weight is positive\n",
    "        if component[0] < 0:\n",
    "            component *= -1\n",
    "\n",
    "        channels[\"R-G Channel\"] = component\n",
    "    elif component[0]*component[1] > 0 and component[0]*component[2] < 0:\n",
    "        # --- B-Y channel\n",
    "        \n",
    "        # Make sure that B weight is positive\n",
    "        if component[2] < 0:\n",
    "            component *= -1\n",
    "\n",
    "        channels[\"B-Y Channel\"] = component\n",
    "\n",
    "    else:\n",
    "        # --- Luminance channel\n",
    "        \n",
    "        # Make sure that luminance weights are all positive\n",
    "        if component[0] < 0:\n",
    "            component *= -1\n",
    "        channels[\"Luminance Channel\"] = component\n",
    "\n",
    "# Output color opponent channels\n",
    "print(\"ICA Components\")\n",
    "print(\"--------------\")\n",
    "print(\"Luminance Channel:\", channels[\"Luminance Channel\"])\n",
    "print(\"R-G Channel:\", channels[\"R-G Channel\"])\n",
    "print(\"B-Y Channel:\", channels[\"B-Y Channel\"])"
   ]
  },
  {
   "cell_type": "markdown",
   "metadata": {},
   "source": [
    "### Observations\n",
    "\n",
    "* __Luminance channel__. The luminosity is a sum of all of the RGB values.\n",
    "\n",
    "* __R-G channel__. The red-green value is dominated by the difference between the red and green values with little contribution from the blue value.\n",
    "\n",
    "* __B-Y channel__. The blue-yellow value is roughly equal to the difference between the blue value and the sum of the red and green values (which is effectively the color yellow)."
   ]
  }
 ],
 "metadata": {
  "kernelspec": {
   "display_name": "Python 3",
   "language": "python",
   "name": "python3"
  },
  "language_info": {
   "codemirror_mode": {
    "name": "ipython",
    "version": 3
   },
   "file_extension": ".py",
   "mimetype": "text/x-python",
   "name": "python",
   "nbconvert_exporter": "python",
   "pygments_lexer": "ipython3",
   "version": "3.9.0"
  }
 },
 "nbformat": 4,
 "nbformat_minor": 4
}
