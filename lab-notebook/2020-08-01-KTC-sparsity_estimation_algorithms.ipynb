{
 "cells": [
  {
   "cell_type": "markdown",
   "metadata": {},
   "source": [
    "## 2020-08-01: Exploring Sparsity Estimation Algorithms\n",
    "\n",
    "*Last Updated*: 2020-08-02\n",
    "\n",
    "### Authors\n",
    "* Kevin Chu (kevin@velexi.com)\n",
    "\n",
    "### Overview\n",
    "In this Jupyter notebook, we explore algorithms for estimating dataset sparsity.\n",
    "\n",
    "### Definitions\n",
    "\n",
    "* Let $\\Omega$ be a union of $M$ linear subspaces $\\Omega_i \\subsetneq \\mathbb{R}^n$ with $\\dim \\Omega_i \\le s$: $\\Omega = \\bigcup_i^M \\Omega_i$.\n",
    "\n",
    "* Let $W$ be a dataset drawn from $\\Omega$.\n",
    "\n",
    "### Key Results\n",
    "* Sampling of random sets of vectors from the dataset $W$ should be done _without replacement_. Since a set of vectors is linearly dependent if the set contains the same vector more than one time, sampling with replacement can lead to non-zero estimates for the probability that a sample of $k$ vectors is linearly dependent even if $k < \\min( \\dim \\Omega_i )$.\n",
    "\n",
    "### User parameters\n",
    "\n",
    "* `TODO`: TODO"
   ]
  },
  {
   "cell_type": "code",
   "execution_count": 1,
   "metadata": {},
   "outputs": [],
   "source": [
    "# --- Imports\n",
    "\n",
    "# Standard library\n",
    "import time\n",
    "\n",
    "# External packages\n",
    "import numba\n",
    "import numpy as np\n",
    "from numpy.linalg import qr\n",
    "import seaborn as sns\n",
    "import tqdm.notebook\n",
    "\n",
    "# Local packages\n",
    "from datasets.sparse import generate_sparse_vectors"
   ]
  },
  {
   "cell_type": "code",
   "execution_count": 2,
   "metadata": {},
   "outputs": [],
   "source": [
    "# --- User parameters\n",
    "\n",
    "# Generative model parameters\n",
    "concept_space_dim = 20\n",
    "sparsity = 2\n",
    "value_range = [0.5, 1.5]\n",
    "\n",
    "# Dataset parameters\n",
    "dataset_size = 10000\n",
    "\n",
    "# Algorithm parameters\n",
    "max_k = concept_space_dim\n",
    "max_k = 6\n",
    "sample_size = 100000"
   ]
  },
  {
   "cell_type": "code",
   "execution_count": 3,
   "metadata": {},
   "outputs": [],
   "source": [
    "# --- Define vectors_are_dependent() function\n",
    "\n",
    "def vectors_are_dependent(vectors, tol=1e-12):\n",
    "    \"\"\"\n",
    "    Determine whether a collection of vectors is linearly dependent.\n",
    "\n",
    "    Parameters\n",
    "    ----------\n",
    "    vectors: numpy.ndarray\n",
    "        set of vectors to determine linear dependence of. Note: it does not matter whether\n",
    "        vectors are stored as rows or columns.\n",
    "        \n",
    "    Return value\n",
    "    ------------\n",
    "    dependent: bool\n",
    "        True if vectors are linearly dependent; False otherwise\n",
    "    \n",
    "    min_abs_diag_R: float\n",
    "        diagonal element of R with minimum absolute value\n",
    "    \"\"\"\n",
    "    #  Handle edge case: 'vectors' contains a single vector\n",
    "    if len(vectors.shape) == 1 or min(vectors.shape) == 1:\n",
    "        min_abs_diag_R = np.abs(vectors).min()\n",
    "        dependent = min_abs_diag_R < tol\n",
    "        return dependent, min_abs_diag_R\n",
    "    \n",
    "    # Use the QR decomposition to transform the matrix 'vectors' into \n",
    "    # an upper-triangular matrix\n",
    "    if vectors.shape[0] < vectors.shape[1]:\n",
    "        R = qr(vectors.T, mode='r')\n",
    "    else:\n",
    "        R = qr(vectors, mode='r')\n",
    "\n",
    "    # Compute diagonal element with the smallest absolute value\n",
    "    if len(R.shape) == 1 or min(R.shape) == 1:\n",
    "        # Case: R is a matrix with a single row or column\n",
    "        min_abs_diag_R = abs(r[0])\n",
    "    else:\n",
    "        min_abs_diag_R = min(abs(np.diag(R)))\n",
    "\n",
    "    # Determine if vectors are linearly dependent by comparing min_abs_diag_r to 0\n",
    "    dependent = min_abs_diag_R < tol\n",
    "\n",
    "    return dependent, min_abs_diag_R"
   ]
  },
  {
   "cell_type": "code",
   "execution_count": 4,
   "metadata": {},
   "outputs": [
    {
     "name": "stdout",
     "output_type": "stream",
     "text": [
      "'vectors_are_dependent()' tests: PASSED\n"
     ]
    }
   ],
   "source": [
    "# --- Test vectors_are_dependent()\n",
    "\n",
    "# ------ Exercise functionality and check results\n",
    "\n",
    "# Dependent row vectors\n",
    "vectors = np.array([[1,1,0],[2,2,0],[3,3,0]])\n",
    "vectors = np.array([[1,1,0],[2,2,0]])\n",
    "dependent, _ = vectors_are_dependent(vectors)\n",
    "assert dependent\n",
    "\n",
    "# Dependent column vectors\n",
    "vectors = np.array([[1,2],[1,2],[0,0]])\n",
    "dependent, _ = vectors_are_dependent(vectors)\n",
    "assert dependent\n",
    "\n",
    "# Independent column vectors\n",
    "vectors = np.array([[1,1],[1,2],[0,0]])\n",
    "dependent, _ = vectors_are_dependent(vectors)\n",
    "assert not dependent\n",
    "\n",
    "# Independent row vectors\n",
    "vectors = np.array([[1,1,0],[1,2,0]])\n",
    "dependent, _ = vectors_are_dependent(vectors)\n",
    "assert not dependent\n",
    "\n",
    "# Print test results\n",
    "print(\"'vectors_are_dependent()' tests: PASSED\")"
   ]
  },
  {
   "cell_type": "markdown",
   "metadata": {},
   "source": [
    "### Preparations"
   ]
  },
  {
   "cell_type": "code",
   "execution_count": 5,
   "metadata": {},
   "outputs": [],
   "source": [
    "# --- Configuration\n",
    "\n",
    "# Seaborn configuration\n",
    "sns.set(color_codes=True)"
   ]
  },
  {
   "cell_type": "code",
   "execution_count": 6,
   "metadata": {},
   "outputs": [
    {
     "name": "stdout",
     "output_type": "stream",
     "text": [
      "Runtime 'generate_sparse_vectors()': 0.211s\n"
     ]
    }
   ],
   "source": [
    "# Generate dataset\n",
    "t_start = time.time()\n",
    "dataset = generate_sparse_vectors(concept_space_dim, sparsity, value_range, dataset_size)\n",
    "t_end = time.time()\n",
    "time_generate_sparse_vectors = t_end - t_start\n",
    "\n",
    "# Print timing data\n",
    "print(\"Runtime 'generate_sparse_vectors()': {:.3g}s\".format(time_generate_sparse_vectors))"
   ]
  },
  {
   "cell_type": "markdown",
   "metadata": {},
   "source": [
    "### Summary of Significant Parameters"
   ]
  },
  {
   "cell_type": "code",
   "execution_count": 7,
   "metadata": {},
   "outputs": [
    {
     "name": "stdout",
     "output_type": "stream",
     "text": [
      "s = 2\n",
      "dataset size = 10000\n",
      "sample size = 100000\n"
     ]
    }
   ],
   "source": [
    "# --- Display parameters that affect algorithm performance\n",
    "\n",
    "print(\"s = {}\".format(sparsity))\n",
    "print(\"dataset size = {}\".format(dataset_size))\n",
    "print(\"sample size = {}\".format(sample_size))"
   ]
  },
  {
   "cell_type": "markdown",
   "metadata": {},
   "source": [
    "### Probability that $k$ vector samples are linearly dependent"
   ]
  },
  {
   "cell_type": "markdown",
   "metadata": {},
   "source": [
    "#### Sample vectors with replacement\n",
    "\n",
    "* Sampling with replacement is not a good idea. For a finite dataset $W$ (in contrast to the   space $\\Omega$), there is a nonzero probability of drawing a sample that is linearly dependent just because the same vecor from $W$ is drawn more than one time."
   ]
  },
  {
   "cell_type": "code",
   "execution_count": 8,
   "metadata": {},
   "outputs": [
    {
     "data": {
      "application/vnd.jupyter.widget-view+json": {
       "model_id": "53180c9fb7e4469ab1f935cf066e2600",
       "version_major": 2,
       "version_minor": 0
      },
      "text/plain": [
       "HBox(children=(FloatProgress(value=0.0, max=5.0), HTML(value='')))"
      ]
     },
     "metadata": {},
     "output_type": "display_data"
    },
    {
     "data": {
      "application/vnd.jupyter.widget-view+json": {
       "model_id": "",
       "version_major": 2,
       "version_minor": 0
      },
      "text/plain": [
       "HBox(children=(FloatProgress(value=0.0, description='Sampling 2 vectors', max=100000.0, style=ProgressStyle(de…"
      ]
     },
     "metadata": {},
     "output_type": "display_data"
    },
    {
     "data": {
      "application/vnd.jupyter.widget-view+json": {
       "model_id": "",
       "version_major": 2,
       "version_minor": 0
      },
      "text/plain": [
       "HBox(children=(FloatProgress(value=0.0, description='Sampling 3 vectors', max=100000.0, style=ProgressStyle(de…"
      ]
     },
     "metadata": {},
     "output_type": "display_data"
    },
    {
     "data": {
      "application/vnd.jupyter.widget-view+json": {
       "model_id": "",
       "version_major": 2,
       "version_minor": 0
      },
      "text/plain": [
       "HBox(children=(FloatProgress(value=0.0, description='Sampling 4 vectors', max=100000.0, style=ProgressStyle(de…"
      ]
     },
     "metadata": {},
     "output_type": "display_data"
    },
    {
     "data": {
      "application/vnd.jupyter.widget-view+json": {
       "model_id": "",
       "version_major": 2,
       "version_minor": 0
      },
      "text/plain": [
       "HBox(children=(FloatProgress(value=0.0, description='Sampling 5 vectors', max=100000.0, style=ProgressStyle(de…"
      ]
     },
     "metadata": {},
     "output_type": "display_data"
    },
    {
     "data": {
      "application/vnd.jupyter.widget-view+json": {
       "model_id": "",
       "version_major": 2,
       "version_minor": 0
      },
      "text/plain": [
       "HBox(children=(FloatProgress(value=0.0, description='Sampling 6 vectors', max=100000.0, style=ProgressStyle(de…"
      ]
     },
     "metadata": {},
     "output_type": "display_data"
    },
    {
     "name": "stdout",
     "output_type": "stream",
     "text": [
      "\n",
      "Probabilities when samples are taken with replacement\n",
      "P(outer product of 1 vectors = 0) = 0\n",
      "P(outer product of 2 vectors = 0) = 0.00011\n",
      "P(outer product of 3 vectors = 0) = 0.00029\n",
      "P(outer product of 4 vectors = 0) = 0.00069\n",
      "P(outer product of 5 vectors = 0) = 0.00151\n",
      "P(outer product of 6 vectors = 0) = 0.00313\n"
     ]
    }
   ],
   "source": [
    "# --- Compute probabilities when samples are taken with replacement\n",
    "\n",
    "# Initialize probabilities that outer products of $k$ vectors is zero\n",
    "p_dependent_with_replacement = np.zeros([max_k])\n",
    "    \n",
    "# Loop over number of vectors to sample from dataset\n",
    "\n",
    "with tqdm.notebook.trange(2, max_k+1) as k_range:\n",
    "    for k in k_range:\n",
    "        k_range.set_description(\"Processing k={} (with replacement)\".format(k))\n",
    "        \n",
    "        # Initialize count for linearly dependent samples\n",
    "        count_dependent = 0\n",
    "    \n",
    "        # Generate samples and check linear dependence\n",
    "        for _ in tqdm.notebook.tqdm(range(sample_size), unit='samples',\n",
    "                                    desc='Sampling {} vectors'.format(k), leave=False):\n",
    "            indices = np.random.choice(dataset_size, k, replace=True)\n",
    "            vectors = dataset[indices, :]\n",
    "            dependent, min_abs_diag_R = vectors_are_dependent(vectors)\n",
    "            if dependent:\n",
    "                count_dependent += 1\n",
    "            \n",
    "            p_dependent_with_replacement[k-1] = count_dependent / sample_size\n",
    "\n",
    "# Display results\n",
    "print(\"Probabilities when samples are taken with replacement\")\n",
    "for k in range(max_k):\n",
    "    print('P(outer product of {} vectors = 0) = {:.5g}'\n",
    "          .format(k+1, p_dependent_with_replacement[k]))"
   ]
  },
  {
   "cell_type": "markdown",
   "metadata": {},
   "source": [
    "#### Sample vectors without replacement"
   ]
  },
  {
   "cell_type": "code",
   "execution_count": 9,
   "metadata": {
    "scrolled": true
   },
   "outputs": [
    {
     "data": {
      "application/vnd.jupyter.widget-view+json": {
       "model_id": "f72076d76c32413ba0bf780f85e3a3f9",
       "version_major": 2,
       "version_minor": 0
      },
      "text/plain": [
       "HBox(children=(FloatProgress(value=0.0, max=5.0), HTML(value='')))"
      ]
     },
     "metadata": {},
     "output_type": "display_data"
    },
    {
     "data": {
      "application/vnd.jupyter.widget-view+json": {
       "model_id": "",
       "version_major": 2,
       "version_minor": 0
      },
      "text/plain": [
       "HBox(children=(FloatProgress(value=0.0, description='Sampling 2 vectors', max=100000.0, style=ProgressStyle(de…"
      ]
     },
     "metadata": {},
     "output_type": "display_data"
    },
    {
     "data": {
      "application/vnd.jupyter.widget-view+json": {
       "model_id": "",
       "version_major": 2,
       "version_minor": 0
      },
      "text/plain": [
       "HBox(children=(FloatProgress(value=0.0, description='Sampling 3 vectors', max=100000.0, style=ProgressStyle(de…"
      ]
     },
     "metadata": {},
     "output_type": "display_data"
    },
    {
     "data": {
      "application/vnd.jupyter.widget-view+json": {
       "model_id": "",
       "version_major": 2,
       "version_minor": 0
      },
      "text/plain": [
       "HBox(children=(FloatProgress(value=0.0, description='Sampling 4 vectors', max=100000.0, style=ProgressStyle(de…"
      ]
     },
     "metadata": {},
     "output_type": "display_data"
    },
    {
     "data": {
      "application/vnd.jupyter.widget-view+json": {
       "model_id": "",
       "version_major": 2,
       "version_minor": 0
      },
      "text/plain": [
       "HBox(children=(FloatProgress(value=0.0, description='Sampling 5 vectors', max=100000.0, style=ProgressStyle(de…"
      ]
     },
     "metadata": {},
     "output_type": "display_data"
    },
    {
     "data": {
      "application/vnd.jupyter.widget-view+json": {
       "model_id": "",
       "version_major": 2,
       "version_minor": 0
      },
      "text/plain": [
       "HBox(children=(FloatProgress(value=0.0, description='Sampling 6 vectors', max=100000.0, style=ProgressStyle(de…"
      ]
     },
     "metadata": {},
     "output_type": "display_data"
    },
    {
     "name": "stdout",
     "output_type": "stream",
     "text": [
      "\n",
      "Probabilities when samples are taken without replacement\n",
      "P(outer product of 1 vectors = 0) = 0\n",
      "P(outer product of 2 vectors = 0) = 0\n",
      "P(outer product of 3 vectors = 0) = 4e-05\n",
      "P(outer product of 4 vectors = 0) = 0.00016\n",
      "P(outer product of 5 vectors = 0) = 0.00048\n",
      "P(outer product of 6 vectors = 0) = 0.00153\n"
     ]
    }
   ],
   "source": [
    "# --- Compute probabilities when samples are taken without replacement\n",
    "\n",
    "# Initialize probabilities that outer products of $k$ vectors is zero\n",
    "p_dependent_without_replacement = np.zeros([max_k])\n",
    "    \n",
    "# Loop over number of vectors to sample from dataset\n",
    "\n",
    "with tqdm.notebook.trange(2, max_k+1) as k_range:\n",
    "    for k in k_range:\n",
    "        k_range.set_description(\"Processing k={} (without replacement)\".format(k))\n",
    "        \n",
    "        # Initialize count for linearly dependent samples\n",
    "        count_dependent = 0\n",
    "    \n",
    "        # Generate samples and check linear dependence\n",
    "        for _ in tqdm.notebook.tqdm(range(sample_size), unit='samples',\n",
    "                                    desc='Sampling {} vectors'.format(k), leave=False):\n",
    "            indices = np.random.choice(dataset_size, k, replace=False)\n",
    "            vectors = dataset[indices, :]\n",
    "            dependent, min_abs_diag_R = vectors_are_dependent(vectors)\n",
    "            if dependent:\n",
    "                count_dependent += 1\n",
    "            \n",
    "            p_dependent_without_replacement[k-1] = count_dependent / sample_size\n",
    "\n",
    "# Display results\n",
    "print(\"Probabilities when samples are taken without replacement\")\n",
    "for k in range(max_k):\n",
    "    print('P(outer product of {} vectors = 0) = {:.5g}'\n",
    "          .format(k+1, p_dependent_without_replacement[k]))"
   ]
  }
 ],
 "metadata": {
  "kernelspec": {
   "display_name": "Python 3",
   "language": "python",
   "name": "python3"
  },
  "language_info": {
   "codemirror_mode": {
    "name": "ipython",
    "version": 3
   },
   "file_extension": ".py",
   "mimetype": "text/x-python",
   "name": "python",
   "nbconvert_exporter": "python",
   "pygments_lexer": "ipython3",
   "version": "3.8.5"
  }
 },
 "nbformat": 4,
 "nbformat_minor": 4
}
